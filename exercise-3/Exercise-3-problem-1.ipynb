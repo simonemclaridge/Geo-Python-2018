{
 "cells": [
  {
   "cell_type": "markdown",
   "metadata": {
    "deletable": false,
    "editable": false,
    "nbgrader": {
     "checksum": "6cb548801b0eb18badd95814484106b9",
     "grade": false,
     "grade_id": "cell-c2bc9538fc9e32a0",
     "locked": true,
     "schema_version": 1,
     "solution": false
    }
   },
   "source": [
    "## Before starting\n",
    "\n",
    "Test that your Python version is up-to-date. Our automatic grading system requires to have IPython version which is higher than 3. Test your version by running following cell (shift + Enter):"
   ]
  },
  {
   "cell_type": "code",
   "execution_count": null,
   "metadata": {
    "collapsed": false
   },
   "outputs": [],
   "source": [
    "import IPython\n",
    "assert IPython.version_info[0] >= 3, \"Your version of IPython is too old, please update it. Ask help, if you don't know how.\"\n",
    "print(\"Your system is okay, you can continue! :) \")"
   ]
  },
  {
   "cell_type": "markdown",
   "metadata": {
    "deletable": false,
    "editable": false,
    "nbgrader": {
     "checksum": "453c1f166fd4a912a190e7266c5db9a0",
     "grade": false,
     "grade_id": "cell-348fe9af7be22c87",
     "locked": true,
     "schema_version": 1,
     "solution": false
    }
   },
   "source": [
    "## Problem 1 - Batch processing data files with a `for` loop (**4 Points**)\n",
    "\n",
    "This problem is meant to simulate a common problem dealing with data files: batch processing.\n",
    "\n",
    "Batch processing involves using scripts to process many data files, and one common task is generating a list of filenames that will be processed, or saved to disk.\n",
    "\n",
    "For this problem you will need to modify the code blocks below and add codes to produce the desired outcomes. \n",
    "\n",
    "**Notice**: follow closely the instructions, e.g. using **exactly** the same variable names as mentioned in the instructions because your answers will be automatically graded, and the tests that grade your answers rely on following the same formatting as in the instructions. \n"
   ]
  },
  {
   "cell_type": "markdown",
   "metadata": {
    "deletable": false,
    "editable": false,
    "nbgrader": {
     "checksum": "2e0f65a79402cb0c60a158977da398b3",
     "grade": false,
     "grade_id": "cell-1386e906130de273",
     "locked": true,
     "schema_version": 1,
     "solution": false
    }
   },
   "source": [
    "**Your score on this problem will be based on following criteria:**\n",
    "\n",
    " - Creating and using variables to produce the desired text format\n",
    " - Successfully using for loop to iterate over desired set of numbers\n",
    " - Successfully producing the desired filename\n",
    " - Including comments that explain what most lines in the code do\n",
    " - Replying to a couple of questions we ask at the end of the assignment\n",
    " - Uploading your notebook to your GitHub repository for this week's Exercise"
   ]
  },
  {
   "cell_type": "markdown",
   "metadata": {
    "deletable": false,
    "editable": false,
    "nbgrader": {
     "checksum": "ac18699b1dd7a8352c9a4b281d4c7232",
     "grade": false,
     "grade_id": "cell-f9b41a4eab2aca48",
     "locked": true,
     "schema_version": 1,
     "solution": false
    }
   },
   "source": [
    "1: Create a new variable called `basename` that contains text `\"Station\"`."
   ]
  },
  {
   "cell_type": "code",
   "execution_count": null,
   "metadata": {
    "collapsed": true,
    "deletable": false,
    "nbgrader": {
     "checksum": "028ea6db49c7dc52f53a419c96a262dd",
     "grade": false,
     "grade_id": "station-name",
     "locked": false,
     "schema_version": 1,
     "solution": true
    }
   },
   "outputs": [],
   "source": [
    "# REPLACE THE ERROR BELOW WITH YOUR OWN CODE\n",
    "raise NotImplementedError()"
   ]
  },
  {
   "cell_type": "code",
   "execution_count": null,
   "metadata": {
    "collapsed": true,
    "deletable": false,
    "editable": false,
    "nbgrader": {
     "checksum": "901ce7422c4515993038aba00c0258bf",
     "grade": true,
     "grade_id": "station-name-test",
     "locked": true,
     "points": 0.25,
     "schema_version": 1,
     "solution": false
    }
   },
   "outputs": [],
   "source": [
    "# Test print of the variable\n",
    "print(basename)\n"
   ]
  },
  {
   "cell_type": "markdown",
   "metadata": {
    "deletable": false,
    "editable": false,
    "nbgrader": {
     "checksum": "d0b3038b7db4a9cdaf3831303e81ae2c",
     "grade": false,
     "grade_id": "cell-90f13269de45ecdb",
     "locked": true,
     "schema_version": 1,
     "solution": false
    }
   },
   "source": [
    "2: Create a new variable `filenames` that is an empty list."
   ]
  },
  {
   "cell_type": "code",
   "execution_count": null,
   "metadata": {
    "collapsed": true,
    "deletable": false,
    "nbgrader": {
     "checksum": "613764f34df799d9e0702541f90de69e",
     "grade": false,
     "grade_id": "empty-filenames-list",
     "locked": false,
     "schema_version": 1,
     "solution": true
    }
   },
   "outputs": [],
   "source": [
    "# REPLACE THE ERROR BELOW WITH YOUR OWN CODE\n",
    "raise NotImplementedError()"
   ]
  },
  {
   "cell_type": "code",
   "execution_count": null,
   "metadata": {
    "collapsed": true,
    "deletable": false,
    "editable": false,
    "nbgrader": {
     "checksum": "bda28a0a08645b6178711217ed63a166",
     "grade": true,
     "grade_id": "empty-filenames-list-test",
     "locked": true,
     "points": 0.25,
     "schema_version": 1,
     "solution": false
    }
   },
   "outputs": [],
   "source": [
    "# Test print of the variable\n",
    "print(filenames)\n"
   ]
  },
  {
   "cell_type": "markdown",
   "metadata": {
    "deletable": false,
    "editable": false,
    "nbgrader": {
     "checksum": "2733544fad8dc893cd87fde7d7f04685",
     "grade": false,
     "grade_id": "cell-341524f278e72900",
     "locked": true,
     "schema_version": 1,
     "solution": false
    }
   },
   "source": [
    "3: Iterate over the number range 0-20 and\n",
    "  - Create a variable `station` that contains the 1) text from `basename` variable, 2) the number, and 3) the file extension `.txt`  \n",
    "  - Add the content of `station` to `filenames` list which should have following content in the end:\n",
    "\n",
    "      ```\n",
    "      ['Station_0.txt', 'Station_1.txt', 'Station_2.txt', 'Station_3.txt',\n",
    "       'Station_4.txt', 'Station_5.txt', 'Station_6.txt', 'Station_7.txt',\n",
    "       'Station_8.txt', 'Station_9.txt', 'Station_10.txt', 'Station_11.txt',\n",
    "       'Station_12.txt', 'Station_13.txt', 'Station_14.txt', 'Station_15.txt',\n",
    "       'Station_16.txt', 'Station_17.txt', 'Station_18.txt', 'Station_19.txt',\n",
    "       'Station_20.txt']\n",
    "      ```"
   ]
  },
  {
   "cell_type": "code",
   "execution_count": null,
   "metadata": {
    "collapsed": true,
    "deletable": false,
    "nbgrader": {
     "checksum": "ad10e6dbe9c9ea6a27e817fdeaeb3f7a",
     "grade": false,
     "grade_id": "populate-filenames-list",
     "locked": false,
     "schema_version": 1,
     "solution": true
    }
   },
   "outputs": [],
   "source": [
    "# REPLACE THE ERROR BELOW WITH YOUR OWN CODE\n",
    "raise NotImplementedError()"
   ]
  },
  {
   "cell_type": "code",
   "execution_count": null,
   "metadata": {
    "collapsed": true,
    "deletable": false,
    "editable": false,
    "nbgrader": {
     "checksum": "efdefcea4580a7d778e1da2066c70b85",
     "grade": true,
     "grade_id": "populate-filenames-list-1",
     "locked": true,
     "points": 2.5,
     "schema_version": 1,
     "solution": false
    }
   },
   "outputs": [],
   "source": [
    "# Test print of the results\n",
    "print(filenames)\n"
   ]
  },
  {
   "cell_type": "markdown",
   "metadata": {
    "deletable": false,
    "editable": false,
    "nbgrader": {
     "checksum": "46ff149b8b76746b4bc56c9118089c40",
     "grade": false,
     "grade_id": "cell-8a96733ac5a7e13b",
     "locked": true,
     "schema_version": 1,
     "solution": false
    }
   },
   "source": [
    "### Comment section:\n",
    "\n",
    "Here, we ask a few questions to make sure you have understand the concepts etc. Answer shortly with a \n",
    "\n",
    "You can also write any feedback or questions concerning this problem (we will also use this space for giving feedback to you, if necessary).\n",
    "\n",
    "1: Is the concept of a loop clear to you? If not, what is difficult to understand?\n",
    "     \n",
    "\n",
    "2: Did you include comments in your code blocks?\n",
    "  \n",
    "Write your answers below (double click to activate the cell below):"
   ]
  },
  {
   "cell_type": "markdown",
   "metadata": {
    "deletable": false,
    "nbgrader": {
     "checksum": "aa2e7d3581c1045b23cb9e2008ccc8f0",
     "grade": true,
     "grade_id": "p1-style-assessment",
     "locked": false,
     "points": 1,
     "schema_version": 1,
     "solution": true
    }
   },
   "source": [
    "YOUR ANSWER HERE"
   ]
  },
  {
   "cell_type": "markdown",
   "metadata": {
    "deletable": false,
    "editable": false,
    "nbgrader": {
     "checksum": "cd4ed9283a0f42af34e3c3e1f51c8130",
     "grade": false,
     "grade_id": "cell-efadc431fa79d91b",
     "locked": true,
     "schema_version": 1,
     "solution": false
    }
   },
   "source": [
    "#### Done!\n",
    "\n",
    "That's it! Now you are ready to continue with [Problem 2](Exercise-3-problem-2.ipynb)."
   ]
  }
 ],
 "metadata": {
  "kernelspec": {
   "display_name": "Python 3",
   "language": "python",
   "name": "python3"
  },
  "language_info": {
   "codemirror_mode": {
    "name": "ipython",
    "version": 3
   },
   "file_extension": ".py",
   "mimetype": "text/x-python",
   "name": "python",
   "nbconvert_exporter": "python",
   "pygments_lexer": "ipython3",
   "version": "3.6.0"
  }
 },
 "nbformat": 4,
 "nbformat_minor": 2
}
