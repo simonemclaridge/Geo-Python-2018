{
 "cells": [
  {
   "cell_type": "markdown",
   "metadata": {},
   "source": [
    "## Extra Problem - Nested `for` loops (optional, does not affect grading)\n",
    "\n",
    "**Warning:** This is a difficult problem. Try to do this task only if you have confidence in programming, and you are up for a little challenge. :) \n",
    "\n",
    "In addition to having single `for` loops that iterate across some variable range, it is possible to *nest* `for` loops within one another.\n",
    "\n",
    "Consider the example below:\n",
    "\n",
    "```python\n",
    ">>> for char in 'dog':\n",
    "...     for char2 in 'cat':\n",
    "...         print (char, char2)\n",
    "    d c\n",
    "    d a\n",
    "    d t\n",
    "    o c\n",
    "    o a\n",
    "    o t\n",
    "    g c\n",
    "    g a\n",
    "    g t\n",
    "```\n",
    "\n",
    "Here, you can see that in the first pass through the first `for` loop, the value of `char` is `d`.\n",
    "Entering the inner (or nested) loop, `char2` is set to `c`.\n",
    "After this, the output is written to the screen and since there are more letters to loop over in the inner `for` loop, the value of `char2` will be updated upon the next pass.\n",
    "The second time through the inner loop, `char2` is set to `a` while `char` remains `d`.\n",
    "Like this, the inner loop will run through all of the letters in `cat` for each time that `char` is updated in the outer loop.\n",
    "It doesn't take too much imagination to figure out this is a very useful concept.\n",
    "\n",
    "For this problem you should do following:\n",
    "\n",
    "1. Create a variable `star` with text `\"*\"` and an empty string variable `text`. Recall, you can created empty string variables by assigning `\"\"` as their value.\n",
    "2. Use nested `for` loops and the variables above to produce the text formation below when `print(text)` is run at the end of your script.\n",
    "\n",
    "    ```\n",
    "    *******\n",
    "    *******\n",
    "    *******\n",
    "    ```\n",
    "3. Create a variable `line` with text `\"-\"` and an empty string variable `flag`.\n",
    "4. Use nested `for` loops and the variables above to produce the text formation below when `print(flag)` is run at the end of your script. **Note**: You will need to use conditional statements to produce the desired output.\n",
    "\n",
    "    ```\n",
    "    *******------------\n",
    "    *******------------\n",
    "    *******------------\n",
    "    -------------------\n",
    "    -------------------\n",
    "    ```\n"
   ]
  },
  {
   "cell_type": "markdown",
   "metadata": {
    "deletable": false,
    "editable": false,
    "nbgrader": {
     "checksum": "152b7e96a4a2e26ba0ee8b9d9faab6bf",
     "grade": false,
     "grade_id": "cell-4e5ab82001ecb87e",
     "locked": true,
     "schema_version": 1,
     "solution": false
    }
   },
   "source": [
    "- Your code for producing the asterix square:"
   ]
  },
  {
   "cell_type": "code",
   "execution_count": null,
   "metadata": {
    "collapsed": true,
    "deletable": false,
    "nbgrader": {
     "checksum": "c260c28bb0ff2f5a5ac3703c03d8a74a",
     "grade": false,
     "grade_id": "asterix-square",
     "locked": false,
     "schema_version": 1,
     "solution": true
    }
   },
   "outputs": [],
   "source": [
    "# REPLACE THE ERROR BELOW WITH YOUR OWN CODE\n",
    "raise NotImplementedError()\n",
    "text"
   ]
  },
  {
   "cell_type": "code",
   "execution_count": null,
   "metadata": {
    "collapsed": true,
    "deletable": false,
    "editable": false,
    "nbgrader": {
     "checksum": "d9f063021edec3b4effe520c4a83b51e",
     "grade": true,
     "grade_id": "asterix-square-test",
     "locked": true,
     "points": 0,
     "schema_version": 1,
     "solution": false
    }
   },
   "outputs": [],
   "source": [
    "print(text)"
   ]
  },
  {
   "cell_type": "markdown",
   "metadata": {
    "deletable": false,
    "editable": false,
    "nbgrader": {
     "checksum": "3a3fe85fc29dc7f5d9fb4cc79db40d60",
     "grade": false,
     "grade_id": "cell-612d3be673da10cc",
     "locked": true,
     "schema_version": 1,
     "solution": false
    }
   },
   "source": [
    "- Your code for producing the flag:"
   ]
  },
  {
   "cell_type": "code",
   "execution_count": null,
   "metadata": {
    "collapsed": true,
    "deletable": false,
    "nbgrader": {
     "checksum": "7061c7c941a7bcfa3da6b3c17a14d1ad",
     "grade": false,
     "grade_id": "flag",
     "locked": false,
     "schema_version": 1,
     "solution": true
    }
   },
   "outputs": [],
   "source": [
    "# REPLACE THE ERROR BELOW WITH YOUR OWN CODE\n",
    "raise NotImplementedError()"
   ]
  },
  {
   "cell_type": "code",
   "execution_count": null,
   "metadata": {
    "collapsed": true,
    "deletable": false,
    "editable": false,
    "nbgrader": {
     "checksum": "97747bdf1b81971336129c470e66f82e",
     "grade": true,
     "grade_id": "flag_test",
     "locked": true,
     "points": 0,
     "schema_version": 1,
     "solution": false
    }
   },
   "outputs": [],
   "source": [
    "print(flag)"
   ]
  },
  {
   "cell_type": "markdown",
   "metadata": {
    "deletable": false,
    "editable": false,
    "nbgrader": {
     "checksum": "baacc40650a92c61e9a547fc52090ad3",
     "grade": false,
     "grade_id": "cell-4aa072eec21ca596",
     "locked": true,
     "schema_version": 1,
     "solution": false
    }
   },
   "source": [
    "### All done!\n",
    "\n",
    "Congrats, if you are here, you have finished all assignments for week 3, even the extra one! Bad-ass. &#128526;"
   ]
  }
 ],
 "metadata": {
  "kernelspec": {
   "display_name": "Python 3",
   "language": "python",
   "name": "python3"
  },
  "language_info": {
   "codemirror_mode": {
    "name": "ipython",
    "version": 3
   },
   "file_extension": ".py",
   "mimetype": "text/x-python",
   "name": "python",
   "nbconvert_exporter": "python",
   "pygments_lexer": "ipython3",
   "version": "3.6.0"
  }
 },
 "nbformat": 4,
 "nbformat_minor": 2
}
